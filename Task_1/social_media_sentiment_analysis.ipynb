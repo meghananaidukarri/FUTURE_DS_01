{
 "cells": [
  {
   "cell_type": "code",
   "execution_count": null,
   "metadata": {},
   "outputs": [],
   "source": [
    "from bs4 import BeautifulSoup\n",
    "from textblob import TextBlob\n",
    "import csv\n",
    "import re\n",
    "\n",
    "# Load CSV file (make sure it's uploaded in the same repo)\n",
    "file_path = \"sentimentdataset.csv\"\n",
    "cleaned_data = []\n",
    "\n",
    "# Clean text\n",
    "def clean_text(text):\n",
    "    text = str(text)\n",
    "    text = BeautifulSoup(text, \"html.parser\").get_text()\n",
    "    text = re.sub(r\"http\\S+|www\\S+\", \"\", text)\n",
    "    text = re.sub(r\"@\\w+\", \"\", text)\n",
    "    text = re.sub(r\"#\\w+\", \"\", text)\n",
    "    text = re.sub(r\"[^A-Za-z0-9\\s]\", \"\", text)\n",
    "    return text.lower().strip()\n",
    "\n",
    "# Analyze sentiment\n",
    "def get_sentiment(text):\n",
    "    polarity = TextBlob(text).sentiment.polarity\n",
    "    if polarity > 0:\n",
    "        return \"Positive\"\n",
    "    elif polarity < 0:\n",
    "        return \"Negative\"\n",
    "    else:\n",
    "        return \"Neutral\"\n",
    "\n",
    "# Read the CSV file\n",
    "with open(file_path, encoding='utf-8') as f:\n",
    "    reader = csv.DictReader(f)\n",
    "    for row in reader:\n",
    "        raw = row.get(\"content\", \"\")\n",
    "        cleaned = clean_text(raw)\n",
    "        sentiment = get_sentiment(cleaned)\n",
    "        cleaned_data.append((cleaned, sentiment))\n",
    "\n",
    "# Print a few results\n",
    "for i, (text, sentiment) in enumerate(cleaned_data[:10], start=1):\n",
    "    print(f\"{i}. {text}\\n   Sentiment: {sentiment}\\n\")"
   ]
  }
 ],
 "metadata": {
  "kernelspec": {
   "display_name": "Python 3",
   "language": "python",
   "name": "python3"
  },
  "language_info": {
   "name": "python",
   "version": ""
  }
 },
 "nbformat": 4,
 "nbformat_minor": 2
}
