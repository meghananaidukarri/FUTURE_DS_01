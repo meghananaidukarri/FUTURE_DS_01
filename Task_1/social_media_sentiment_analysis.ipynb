# Social Media Sentiment Analysis: Twitter, Instagram, LinkedIn

# Step 1: Import required libraries
import pandas as pd
import re
from textblob import TextBlob
import matplotlib.pyplot as plt

# Step 2: Load the dataset
df = pd.read_csv("sentimentdataset.csv")
print(f"Loaded {len(df)} rows")
print("Columns:", df.columns)
print(df.head())

# Step 3: Define text cleaning and sentiment analysis functions
def clean_text(text):
    text = str(text).lower()
    text = re.sub(r"http\S+|www.\S+", "", text)  # Remove URLs
    text = re.sub(r"@\w+|#\w+", "", text)        # Remove mentions and hashtags
    text = re.sub(r"[^a-zA-Z0-9\s]", "", text)   # Remove punctuation
    return text.strip()

def get_sentiment_score(text):
    return TextBlob(text).sentiment.polarity

def label_sentiment(score):
    if score > 0:
        return "Positive"
    elif score < 0:
        return "Negative"
    else:
        return "Neutral"

# Step 4: Analyze sentiment by platform
platforms = ['Twitter', 'Instagram', 'LinkedIn']

for platform in platforms:
    print(f"\nProcessing platform: {platform}")
    
    platform_df = df[df['platform'] == platform].copy()
    print(f"Found {len(platform_df)} posts")

    platform_df["Cleaned_Text"] = platform_df["content"].apply(clean_text)
    platform_df["Sentiment_Score"] = platform_df["Cleaned_Text"].apply(get_sentiment_score)
    platform_df["Sentiment"] = platform_df["Sentiment_Score"].apply(label_sentiment)

    # Save the cleaned data
    filename = f"{platform.lower()}_sentiment.csv"
    platform_df.to_csv(filename, index=False)
    print(f"Saved sentiment data to {filename}")

    # Plot sentiment distribution
    sentiment_counts = platform_df["Sentiment"].value_counts()
    sentiment_counts.plot(kind="bar", color=["green", "red", "gray"])
    plt.title(f"{platform} Sentiment Distribution")
    plt.xlabel("Sentiment")
    plt.ylabel("Number of Posts")
    plt.xticks(rotation=0)
    plt.tight_layout()
    plt.show()
