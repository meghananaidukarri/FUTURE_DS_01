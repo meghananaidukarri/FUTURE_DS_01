{
 "cells": [
  {
   "cell_type": "code",
   "execution_count": null,
   "metadata": {},
   "outputs": [],
   "source": [
    "from bs4 import BeautifulSoup\n",
    "from textblob import TextBlob\n",
    "import csv\n",
    "import re\n",
    "\n",
    "# Step 1: Load your CSV file (make sure it's in the same folder as this script)\n",
    "file_path = \"sentimentdataset.csv\"\n",
    "\n",
    "# Step 2: Clean the text\n",
    "def clean_text(text):\n",
    "    text = str(text)\n",
    "    text = BeautifulSoup(text, \"html.parser\").get_text()  # remove HTML tags\n",
    "    text = re.sub(r\"http\\S+|www\\.\\S+\", \"\", text)           # remove URLs\n",
    "    text = re.sub(r\"@\\w+\", \"\", text)                      # remove @mentions\n",
    "    text = re.sub(r\"#\\w+\", \"\", text)                      # remove hashtags\n",
    "    text = re.sub(r\"[^A-Za-z0-9\\s]\", \"\", text)            # remove punctuation\n",
    "    return text.lower().strip()\n",
    "\n",
    "# Step 3: Analyze sentiment using TextBlob\n",
    "def get_sentiment(text):\n",
    "    polarity = TextBlob(text).sentiment.polarity\n",
    "    if polarity > 0:\n",
    "        return \"Positive\"\n",
    "    elif polarity < 0:\n",
    "        return \"Negative\"\n",
    "    else:\n",
    "        return \"Neutral\"\n",
    "\n",
    "# Step 4: Read the file and analyze each row\n",
    "results = []\n",
    "\n",
    "with open(file_path, encoding='utf-8') as f:\n",
    "    reader = csv.DictReader(f)\n",
    "    for row in reader:\n",
    "        raw = row.get(\"content\", \"\")\n",
    "        cleaned = clean_text(raw)\n",
    "        sentiment = get_sentiment(cleaned)\n",
    "        results.append((cleaned, sentiment))\n",
    "\n",
    "# Step 5: Show some results\n",
    "for i, (text, sentiment) in enumerate(results[:10], start=1):\n",
    "    print(f\"{i}. {text}\\n   Sentiment: {sentiment}\\n\")"
   ]
  }
 ],
 "metadata": {
  "kernelspec": {
   "display_name": "Python 3",
   "language": "python",
   "name": "python3"
  },
  "language_info": {
   "name": "python",
   "version": ""
  }
 },
 "nbformat": 4,
 "nbformat_minor": 2
}
