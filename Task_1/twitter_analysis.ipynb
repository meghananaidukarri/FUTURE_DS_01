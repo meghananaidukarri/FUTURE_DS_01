# Step 1: Import libraries
import pandas as pd
import re
from textblob import TextBlob
import matplotlib.pyplot as plt

# Step 2: Load the sample Twitter dataset
df = pd.read_csv("Twitter.csv") 
print(f"Loaded {len(df)} tweets from sample dataset")

# Step 3: Clean the tweet text
def clean_text(text):
    text = str(text).lower()
    text = re.sub(r"http\S+|www.\S+", "", text)
    text = re.sub(r"@\w+|#\w+", "", text)
    text = re.sub(r"[^a-zA-Z0-9\s]", "", text)
    return text.strip()

df["Cleaned_Text"] = df["content"].apply(clean_text)

# Step 4: Sentiment Analysis
def get_sentiment_score(text):
    return TextBlob(text).sentiment.polarity

df["Sentiment_Score"] = df["Cleaned_Text"].apply(get_sentiment_score)

def label_sentiment(score):
    if score > 0:
        return "Positive"
    elif score < 0:
        return "Negative"
    else:
        return "Neutral"

df["Sentiment"] = df["Sentiment_Score"].apply(label_sentiment)

# Step 5: Save cleaned data
df.to_csv("twitter_sentiment.csv", index=False)
print("Cleaned data saved as 'twitter_sentiment.csv'")

# Step 6: Visualize sentiment distribution
sentiment_counts = df["Sentiment"].value_counts()
sentiment_counts.plot(kind="bar", color=["green", "red", "gray"])
plt.title("Sentiment Distribution on Twitter")
plt.xlabel("Sentiment")
plt.ylabel("Number of Tweets")
plt.xticks(rotation=0)
plt.tight_layout()
plt.show()

