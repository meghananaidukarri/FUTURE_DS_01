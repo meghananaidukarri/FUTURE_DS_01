{
 "cells": [
  {
   "cell_type": "code",
   "execution_count": null,
   "id": "f099630c",
   "metadata": {},
   "outputs": [],
   "source": [
    "import pandas as pd\n",
    "from textblob import TextBlob\n",
    "import matplotlib.pyplot as plt\n",
    "import re"
   ]
  },
  {
   "cell_type": "code",
   "execution_count": null,
   "id": "374eaa7f",
   "metadata": {},
   "outputs": [],
   "source": [
    "# Load the sentiment dataset\n",
    "df = pd.read_csv(\"sentimentdataset.csv\")\n",
    "df.head()"
   ]
  },
  {
   "cell_type": "code",
   "execution_count": null,
   "id": "8f2741b7",
   "metadata": {},
   "outputs": [],
   "source": [
    "# Function to clean text\n",
    "def clean_text(text):\n",
    "    text = str(text).lower()\n",
    "    text = re.sub(r\"http\\S+|www\\.\\S+\", \"\", text)\n",
    "    text = re.sub(r\"@[\\w]*\", \"\", text)\n",
    "    text = re.sub(r\"#[\\w]*\", \"\", text)\n",
    "    text = re.sub(r\"[^a-zA-Z0-9\\s]\", \"\", text)\n",
    "    return text.strip()\n",
    "\n",
    "df[\"Cleaned_Text\"] = df[\"content\"].apply(clean_text)\n",
    "df[[\"content\", \"Cleaned_Text\"]].head()"
   ]
  },
  {
   "cell_type": "code",
   "execution_count": null,
   "id": "4b0c7684",
   "metadata": {},
   "outputs": [],
   "source": [
    "# Function to get sentiment score\n",
    "def get_sentiment(text):\n",
    "    return TextBlob(text).sentiment.polarity\n",
    "\n",
    "df[\"Sentiment_Score\"] = df[\"Cleaned_Text\"].apply(get_sentiment)\n",
    "\n",
    "# Label sentiment\n",
    "def label_sentiment(score):\n",
    "    if score > 0:\n",
    "        return \"Positive\"\n",
    "    elif score < 0:\n",
    "        return \"Negative\"\n",
    "    else:\n",
    "        return \"Neutral\"\n",
    "\n",
    "df[\"Sentiment\"] = df[\"Sentiment_Score\"].apply(label_sentiment)\n",
    "df[[\"Cleaned_Text\", \"Sentiment_Score\", \"Sentiment\"]].head()"
   ]
  },
  {
   "cell_type": "code",
   "execution_count": null,
   "id": "23341ea8",
   "metadata": {},
   "outputs": [],
   "source": [
    "# Save to CSV\n",
    "df.to_csv(\"processed_sentiment.csv\", index=False)"
   ]
  },
  {
   "cell_type": "code",
   "execution_count": null,
   "id": "2e1551a7",
   "metadata": {},
   "outputs": [],
   "source": [
    "# Visualize sentiment distribution\n",
    "sentiment_counts = df[\"Sentiment\"].value_counts()\n",
    "sentiment_counts.plot(kind=\"bar\", color=[\"green\", \"red\", \"gray\"])\n",
    "plt.title(\"Sentiment Distribution\")\n",
    "plt.xlabel(\"Sentiment\")\n",
    "plt.ylabel(\"Tweet Count\")\n",
    "plt.show()"
   ]
  }
 ],
 "metadata": {},
 "nbformat": 4,
 "nbformat_minor": 5
}